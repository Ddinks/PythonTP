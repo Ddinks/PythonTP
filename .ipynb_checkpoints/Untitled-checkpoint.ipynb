{
 "cells": [
  {
   "cell_type": "markdown",
   "id": "7d75b5e6-6de3-462e-a66b-064dcde3eeaa",
   "metadata": {},
   "source": [
    "# TP Python"
   ]
  },
  {
   "cell_type": "code",
   "execution_count": 1,
   "id": "cc216285-0c94-4017-b7d7-d4f8736c982f",
   "metadata": {},
   "outputs": [],
   "source": [
    "a=3"
   ]
  },
  {
   "cell_type": "code",
   "execution_count": 2,
   "id": "e72c5f03-1499-48c7-b41f-2b89a9848d6c",
   "metadata": {},
   "outputs": [
    {
     "data": {
      "text/plain": [
       "3"
      ]
     },
     "execution_count": 2,
     "metadata": {},
     "output_type": "execute_result"
    }
   ],
   "source": [
    "a"
   ]
  },
  {
   "cell_type": "code",
   "execution_count": 3,
   "id": "e5ecdf6e-fd75-46d2-b813-22d5e9eb73df",
   "metadata": {},
   "outputs": [],
   "source": [
    "def f1(x):\n",
    "    return x ** 2"
   ]
  },
  {
   "cell_type": "code",
   "execution_count": 20,
   "id": "4546f572-1ba6-4f6c-a45d-8096a67d2fef",
   "metadata": {},
   "outputs": [],
   "source": [
    "def f2(x):\n",
    "    return \"x\" + \"a\""
   ]
  },
  {
   "cell_type": "code",
   "execution_count": 5,
   "id": "abc35f16-66b3-458e-8f33-6ec55a8f2573",
   "metadata": {},
   "outputs": [
    {
     "data": {
      "text/plain": [
       "4"
      ]
     },
     "execution_count": 5,
     "metadata": {},
     "output_type": "execute_result"
    }
   ],
   "source": [
    "f1(2)"
   ]
  },
  {
   "cell_type": "code",
   "execution_count": 21,
   "id": "0497a965-756e-46a1-b489-0e65e724e407",
   "metadata": {},
   "outputs": [
    {
     "data": {
      "text/plain": [
       "'xa'"
      ]
     },
     "execution_count": 21,
     "metadata": {},
     "output_type": "execute_result"
    }
   ],
   "source": [
    "f2(5)"
   ]
  },
  {
   "cell_type": "code",
   "execution_count": 26,
   "id": "86226fe8-de11-4f3e-9545-146b6d609784",
   "metadata": {},
   "outputs": [
    {
     "data": {
      "text/plain": [
       "[0, 1, 2, 3, 4, 5, 6, 7, 8, 9]"
      ]
     },
     "execution_count": 26,
     "metadata": {},
     "output_type": "execute_result"
    }
   ],
   "source": [
    "[ i for i in range(10) ]"
   ]
  },
  {
   "cell_type": "code",
   "execution_count": null,
   "id": "a628e57d-5404-4e47-91bd-0c69f544bf1b",
   "metadata": {},
   "outputs": [],
   "source": []
  }
 ],
 "metadata": {
  "kernelspec": {
   "display_name": "Python 3 (ipykernel)",
   "language": "python",
   "name": "python3"
  },
  "language_info": {
   "codemirror_mode": {
    "name": "ipython",
    "version": 3
   },
   "file_extension": ".py",
   "mimetype": "text/x-python",
   "name": "python",
   "nbconvert_exporter": "python",
   "pygments_lexer": "ipython3",
   "version": "3.10.12"
  }
 },
 "nbformat": 4,
 "nbformat_minor": 5
}
